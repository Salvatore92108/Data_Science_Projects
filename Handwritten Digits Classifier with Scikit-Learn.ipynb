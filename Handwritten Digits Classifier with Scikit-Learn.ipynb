{
 "cells": [
  {
   "cell_type": "markdown",
   "id": "4ed6d7b6",
   "metadata": {},
   "source": [
    "# Handwritten Digits Classifier with Scikit-Learn\n",
    "\n",
    "### Author: Salvatore Porcheddu\n",
    "### Date: 2021-09-14\n",
    "\n",
    "This project is about building a machine learning model that can predict digits that were handwritten and then digitally rendered. The images of the handwritten digits will come from the digits dataset in scikit-learn, which itself is a copy of the \"Optical Recognition of Handwritten Digits Data Set\" from the UCI, that can be found [here](https://archive.ics.uci.edu/ml/datasets/Optical+Recognition+of+Handwritten+Digits).\n",
    "\n",
    "The dataset contains 1797 observations, where each observation represents a handwritten digit image of 8x8 pixels, so we have 64 columns plus the label column."
   ]
  },
  {
   "cell_type": "markdown",
   "id": "a9e77c82",
   "metadata": {},
   "source": [
    "### Step 1: Importing The Data And Visualizing Some Of The Digits"
   ]
  },
  {
   "cell_type": "code",
   "execution_count": 1,
   "id": "ac6e0adf",
   "metadata": {},
   "outputs": [],
   "source": [
    "# importing relevant packages\n",
    "\n",
    "import pandas as pd\n",
    "import matplotlib.pyplot as plt\n",
    "import numpy as np\n",
    "from sklearn.datasets import load_digits\n",
    "from sklearn.model_selection import train_test_split\n",
    "from sklearn.model_selection import KFold\n",
    "from sklearn.neighbors import KNeighborsClassifier\n",
    "from sklearn.neural_network import MLPClassifier\n",
    "from sklearn.metrics import accuracy_score\n",
    "\n",
    "# disabling useless warnings\n",
    "\n",
    "import warnings\n",
    "warnings.filterwarnings(\"ignore\")"
   ]
  },
  {
   "cell_type": "code",
   "execution_count": 2,
   "id": "8e46bf8c",
   "metadata": {},
   "outputs": [
    {
     "name": "stdout",
     "output_type": "stream",
     "text": [
      "   pixel_0_0  pixel_0_1  pixel_0_2  pixel_0_3  pixel_0_4  pixel_0_5  \\\n",
      "0        0.0        0.0        5.0       13.0        9.0        1.0   \n",
      "1        0.0        0.0        0.0       12.0       13.0        5.0   \n",
      "2        0.0        0.0        0.0        4.0       15.0       12.0   \n",
      "3        0.0        0.0        7.0       15.0       13.0        1.0   \n",
      "4        0.0        0.0        0.0        1.0       11.0        0.0   \n",
      "\n",
      "   pixel_0_6  pixel_0_7  pixel_1_0  pixel_1_1  ...  pixel_6_6  pixel_6_7  \\\n",
      "0        0.0        0.0        0.0        0.0  ...        0.0        0.0   \n",
      "1        0.0        0.0        0.0        0.0  ...        0.0        0.0   \n",
      "2        0.0        0.0        0.0        0.0  ...        5.0        0.0   \n",
      "3        0.0        0.0        0.0        8.0  ...        9.0        0.0   \n",
      "4        0.0        0.0        0.0        0.0  ...        0.0        0.0   \n",
      "\n",
      "   pixel_7_0  pixel_7_1  pixel_7_2  pixel_7_3  pixel_7_4  pixel_7_5  \\\n",
      "0        0.0        0.0        6.0       13.0       10.0        0.0   \n",
      "1        0.0        0.0        0.0       11.0       16.0       10.0   \n",
      "2        0.0        0.0        0.0        3.0       11.0       16.0   \n",
      "3        0.0        0.0        7.0       13.0       13.0        9.0   \n",
      "4        0.0        0.0        0.0        2.0       16.0        4.0   \n",
      "\n",
      "   pixel_7_6  pixel_7_7  \n",
      "0        0.0        0.0  \n",
      "1        0.0        0.0  \n",
      "2        9.0        0.0  \n",
      "3        0.0        0.0  \n",
      "4        0.0        0.0  \n",
      "\n",
      "[5 rows x 64 columns] \n",
      "\n",
      "0    0\n",
      "1    1\n",
      "2    2\n",
      "3    3\n",
      "4    4\n",
      "Name: target, dtype: int64\n"
     ]
    }
   ],
   "source": [
    "# importing the data\n",
    "\n",
    "data = load_digits(as_frame=True)\n",
    "\n",
    "features = data[\"data\"]\n",
    "labels = data[\"target\"]\n",
    "\n",
    "print(features.head(), \"\\n\")\n",
    "print(labels.head())"
   ]
  },
  {
   "cell_type": "code",
   "execution_count": 3,
   "id": "80c50696",
   "metadata": {},
   "outputs": [
    {
     "data": {
      "text/plain": [
       "array([[ 0.,  0.,  5., 13.,  9.,  1.,  0.,  0.],\n",
       "       [ 0.,  0., 13., 15., 10., 15.,  5.,  0.],\n",
       "       [ 0.,  3., 15.,  2.,  0., 11.,  8.,  0.],\n",
       "       [ 0.,  4., 12.,  0.,  0.,  8.,  8.,  0.],\n",
       "       [ 0.,  5.,  8.,  0.,  0.,  9.,  8.,  0.],\n",
       "       [ 0.,  4., 11.,  0.,  1., 12.,  7.,  0.],\n",
       "       [ 0.,  2., 14.,  5., 10., 12.,  0.,  0.],\n",
       "       [ 0.,  0.,  6., 13., 10.,  0.,  0.,  0.]])"
      ]
     },
     "execution_count": 3,
     "metadata": {},
     "output_type": "execute_result"
    }
   ],
   "source": [
    "# Selecting some observations to visualize and reshaping them to their original shape (8x8)\n",
    "\n",
    "indices_first_row = [0, 99, 199, 299]  # we will create a figure with two rows of four subplots\n",
    "indices_second_row = [999, 1099, 1199, 1299]\n",
    "images_first = []\n",
    "images_second = []\n",
    "\n",
    "for index_1, index_2 in zip(indices_first_row, indices_second_row):\n",
    "    im_1 = features.iloc[index_1].copy().values\n",
    "    im_1 = np.reshape(im_1, (8,8))\n",
    "    images_first.append(im_1)\n",
    "    \n",
    "    im_2 = features.iloc[index_2].copy().values\n",
    "    im_2 = np.reshape(im_2, (8,8))\n",
    "    images_second.append(im_2)\n",
    "    \n",
    "# An image matrix looks like this\n",
    "images_first[0]"
   ]
  },
  {
   "cell_type": "code",
   "execution_count": 4,
   "id": "cad1dc74",
   "metadata": {},
   "outputs": [
    {
     "data": {
      "image/png": "[encoded data removed]",
      "text/plain": [
       "<Figure size 432x288 with 8 Axes>"
      ]
     },
     "metadata": {
      "needs_background": "light"
     },
     "output_type": "display_data"
    }
   ],
   "source": [
    "# Creating a figure and plotting the images\n",
    "\n",
    "fig, ax = plt.subplots(2, 4)\n",
    "\n",
    "for i, image_i in enumerate(images_first):\n",
    "    for j, image_j in enumerate(images_second):\n",
    "        ax[0, i].imshow(image_i, cmap=\"gray\")\n",
    "        ax[0, i].set_axis_off()\n",
    "        \n",
    "        ax[1, j].imshow(image_j, cmap=\"gray\")\n",
    "        ax[1, j].set_axis_off()\n",
    "        \n",
    "plt.show()"
   ]
  },
  {
   "cell_type": "markdown",
   "id": "fd2e1036",
   "metadata": {},
   "source": [
    "### Step 2: Trying The K-Nearest Neighbors Classifier"
   ]
  },
  {
   "cell_type": "code",
   "execution_count": 5,
   "id": "14dc9150",
   "metadata": {},
   "outputs": [],
   "source": [
    "# Split the dataset\n",
    "\n",
    "X_train, X_test, y_train, y_test = train_test_split(features, labels, random_state=27)\n",
    "\n",
    "# Defining a useful function to perform 4-fold cross-validation with different k values and then evaluate how the model performs on the test set\n",
    "\n",
    "def cross_validate_kneigh(k):\n",
    "    cv_accuracies = []\n",
    "    \n",
    "    cv = KFold(4)\n",
    "    knn = KNeighborsClassifier(k)\n",
    "    \n",
    "    for train_index, test_index in cv.split(X_train):\n",
    "        X_train_cv, X_test_cv = X_train.iloc[train_index], X_train.iloc[test_index]\n",
    "        y_train_cv, y_test_cv = y_train.iloc[train_index], y_train.iloc[test_index]\n",
    "        \n",
    "        knn.fit(X_train_cv, y_train_cv)\n",
    "        preds = knn.predict(X_test_cv)\n",
    "        acc = accuracy_score(y_test_cv, preds)\n",
    "        \n",
    "        cv_accuracies.append(acc)\n",
    "        \n",
    "    knn.fit(X_train, y_train)\n",
    "    preds = knn.predict(X_test)\n",
    "    test_acc = accuracy_score(y_test, preds)\n",
    "    \n",
    "    return np.mean(cv_accuracies), test_acc\n",
    "    "
   ]
  },
  {
   "cell_type": "code",
   "execution_count": 6,
   "id": "a8515a91",
   "metadata": {},
   "outputs": [],
   "source": [
    "# Experimenting with different k values\n",
    "\n",
    "ks = range(2, 11)\n",
    "\n",
    "cv_scores = []\n",
    "test_scores = []\n",
    "\n",
    "for k in ks:\n",
    "    cv_score, test_score = cross_validate_kneigh(k)\n",
    "    cv_scores.append(cv_score)\n",
    "    test_scores.append(test_score)"
   ]
  },
  {
   "cell_type": "code",
   "execution_count": 7,
   "id": "8d77eb9b",
   "metadata": {},
   "outputs": [
    {
     "data": {
      "image/png": "[encoded data removed]",
      "text/plain": [
       "<Figure size 432x288 with 1 Axes>"
      ]
     },
     "metadata": {
      "needs_background": "light"
     },
     "output_type": "display_data"
    }
   ],
   "source": [
    "# Plotting the accuracies\n",
    "\n",
    "plt.plot(ks, cv_scores, label=\"cv scores\")\n",
    "plt.plot(ks, test_scores, label=\"test set scores\")\n",
    "plt.legend()\n",
    "plt.xlabel(\"Number of neighbors\")\n",
    "plt.ylabel(\"Accuracy (0-1 range)\")\n",
    "plt.show()"
   ]
  },
  {
   "cell_type": "markdown",
   "id": "b3b7e418",
   "metadata": {},
   "source": [
    "The model with 3 neighbors got the best accuracy; test set scores are almost always higher than the cross-validated scores, which is a good sign. \n",
    "We can see that all the k values tested yield excellent performance (between 97 and 99% of digits are correctly identified)."
   ]
  },
  {
   "cell_type": "markdown",
   "id": "49ef669b",
   "metadata": {},
   "source": [
    "### Step 3: Neural Network With One Hidden Layer"
   ]
  },
  {
   "cell_type": "code",
   "execution_count": 8,
   "id": "9090616a",
   "metadata": {},
   "outputs": [],
   "source": [
    "# Modifying the 'cross_validate_kneigh' function to be used with neural networks with varying number of neurons and hidden layers\n",
    "\n",
    "def cross_validate_nn(n):\n",
    "    cv_accuracies = []\n",
    "    \n",
    "    cv = KFold(4)\n",
    "    nn = MLPClassifier(hidden_layer_sizes=n)\n",
    "    \n",
    "    for train_index, test_index in cv.split(X_train):\n",
    "        X_train_cv, X_test_cv = X_train.iloc[train_index], X_train.iloc[test_index]\n",
    "        y_train_cv, y_test_cv = y_train.iloc[train_index], y_train.iloc[test_index]\n",
    "        \n",
    "        nn.fit(X_train_cv, y_train_cv)\n",
    "        preds = nn.predict(X_test_cv)\n",
    "        acc = accuracy_score(y_test_cv, preds)\n",
    "        \n",
    "        cv_accuracies.append(acc)\n",
    "        \n",
    "    nn.fit(X_train, y_train)\n",
    "    preds_test = nn.predict(X_test)\n",
    "    test_acc = accuracy_score(y_test, preds_test)\n",
    "    \n",
    "    preds_train = nn.predict(X_train)\n",
    "    train_acc = accuracy_score(y_train, preds_train)\n",
    "    \n",
    "    return np.mean(cv_accuracies), test_acc, train_acc"
   ]
  },
  {
   "cell_type": "code",
   "execution_count": 9,
   "id": "7eafa90b",
   "metadata": {},
   "outputs": [],
   "source": [
    "# Experimenting with different numbers of neurons\n",
    "\n",
    "neurons = [(8,), (16,), (32,), (64,), (128,), (256,)]\n",
    "\n",
    "cv_scores = []\n",
    "test_scores = []\n",
    "train_scores = []\n",
    "\n",
    "for n in neurons:\n",
    "    cv_score, test_score, train_score = cross_validate_nn(k)\n",
    "    cv_scores.append(cv_score)\n",
    "    test_scores.append(test_score)\n",
    "    train_scores.append(train_score)"
   ]
  },
  {
   "cell_type": "code",
   "execution_count": 10,
   "id": "93fa13e6",
   "metadata": {},
   "outputs": [
    {
     "data": {
      "image/png": "[encoded data removed]",
      "text/plain": [
       "<Figure size 432x288 with 1 Axes>"
      ]
     },
     "metadata": {
      "needs_background": "light"
     },
     "output_type": "display_data"
    }
   ],
   "source": [
    "# Plotting the accuracies\n",
    "\n",
    "plt.plot(neurons, cv_scores, label=\"cv scores\")\n",
    "plt.plot(neurons, test_scores, label=\"test set scores\")\n",
    "plt.plot(neurons, train_scores, label=\"train set (no cv) scores\")\n",
    "plt.legend()\n",
    "plt.xlabel(\"Number of neurons\")\n",
    "plt.ylabel(\"Accuracy (0-1 range)\")\n",
    "plt.show()"
   ]
  },
  {
   "cell_type": "markdown",
   "id": "6a9c789b",
   "metadata": {},
   "source": [
    "With one layer, we achieve the best performance with 8 neurons. No significant overfitting can be observed."
   ]
  },
  {
   "cell_type": "markdown",
   "id": "4138ae95",
   "metadata": {},
   "source": [
    "### Step 4: Neural Network With Two Hidden Layers"
   ]
  },
  {
   "cell_type": "code",
   "execution_count": 11,
   "id": "96b02556",
   "metadata": {},
   "outputs": [
    {
     "name": "stdout",
     "output_type": "stream",
     "text": [
      "Average cross-validated accuracy score: 0.9718\n",
      "Test set accuracy score: 0.9667\n",
      "Train set accuracy score: 1.0000\n"
     ]
    }
   ],
   "source": [
    "# Let's use 64 neurons for both neural networks\n",
    "\n",
    "cv_score, test_score, train_score = cross_validate_nn((64, 64,))\n",
    "\n",
    "print(f\"Average cross-validated accuracy score: {cv_score:.4f}\")\n",
    "print(f\"Test set accuracy score: {test_score:.4f}\")\n",
    "print(f\"Train set accuracy score: {train_score:.4f}\")"
   ]
  },
  {
   "cell_type": "markdown",
   "id": "e3734f70",
   "metadata": {},
   "source": [
    "With two layers, we get better accuracy but still a bit less than the KNeighbors model. Still no significant overfitting."
   ]
  },
  {
   "cell_type": "markdown",
   "id": "c7bf2b53",
   "metadata": {},
   "source": [
    "### Step 5: Neural Network With Three Hidden Layers"
   ]
  },
  {
   "cell_type": "code",
   "execution_count": 12,
   "id": "9a724ef3",
   "metadata": {},
   "outputs": [],
   "source": [
    "# Experimenting with different numbers of neurons\n",
    "\n",
    "neurons = [(10,10,10,), (64,64,64,), (128,128,128,)]\n",
    "\n",
    "cv_scores = []\n",
    "test_scores = []\n",
    "train_scores = []\n",
    "\n",
    "for n in neurons:\n",
    "    cv_score, test_score, train_score = cross_validate_nn(k)\n",
    "    cv_scores.append(cv_score)\n",
    "    test_scores.append(test_score)\n",
    "    train_scores.append(train_score)"
   ]
  },
  {
   "cell_type": "code",
   "execution_count": 14,
   "id": "ca8ba9de",
   "metadata": {},
   "outputs": [
    {
     "data": {
      "image/png": "[encoded data removed]",
      "text/plain": [
       "<Figure size 432x288 with 1 Axes>"
      ]
     },
     "metadata": {
      "needs_background": "light"
     },
     "output_type": "display_data"
    }
   ],
   "source": [
    "# Plotting the accuracies\n",
    "\n",
    "plt.plot([10, 64, 128], cv_scores, label=\"cv scores\")\n",
    "plt.plot([10, 64, 128], test_scores, label=\"test set scores\")\n",
    "plt.plot([10, 64, 128], train_scores, label=\"training set scores\")\n",
    "plt.legend(loc=\"best\")\n",
    "plt.xlabel(\"Number of neurons in each layer\")\n",
    "plt.ylabel(\"Accuracy (0-1 range)\")\n",
    "plt.show()"
   ]
  },
  {
   "cell_type": "markdown",
   "id": "8c85f690",
   "metadata": {},
   "source": [
    "With three layers, performance is slightly worse than before, especially if we increase the number of neurons."
   ]
  }
 ],
 "metadata": {
  "kernelspec": {
   "display_name": "Python 3 (ipykernel)",
   "language": "python",
   "name": "python3"
  },
  "language_info": {
   "codemirror_mode": {
    "name": "ipython",
    "version": 3
   },
   "file_extension": ".py",
   "mimetype": "text/x-python",
   "name": "python",
   "nbconvert_exporter": "python",
   "pygments_lexer": "ipython3",
   "version": "3.9.7"
  }
 },
 "nbformat": 4,
 "nbformat_minor": 5
}
